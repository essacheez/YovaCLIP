{
 "cells": [
  {
   "cell_type": "code",
   "execution_count": 1,
   "metadata": {},
   "outputs": [
    {
     "name": "stdout",
     "output_type": "stream",
     "text": [
      "Frames extracted successfully.\n"
     ]
    }
   ],
   "source": [
    "import os\n",
    "from PIL import Image\n",
    "\n",
    "frames_folder = 'frames'\n",
    "if not os.path.exists(frames_folder):\n",
    "    os.makedirs(frames_folder)\n",
    "\n",
    "gif_folder = '/Users/essajan/Desktop/DL/final_dataset/Annotated_data/D04-Hazy weather'\n",
    "\n",
    "gif_files = [f for f in os.listdir(gif_folder) if f.endswith('.gif')]\n",
    "\n",
    "def extract_frames(gif_file):\n",
    "    with Image.open(os.path.join(gif_folder, gif_file)) as img:\n",
    "        for i in range(img.n_frames):\n",
    "            img.seek(i)\n",
    "            img_rgba = img.convert('RGBA')\n",
    "            img_rgba.save(os.path.join(frames_folder, f\"{os.path.splitext(gif_file)[0]}_{i}.png\"), format='PNG')\n",
    "\n",
    "for gif_file in gif_files:\n",
    "    extract_frames(gif_file)\n",
    "\n",
    "print(\"Frames extracted successfully.\")"
   ]
  }
 ],
 "metadata": {
  "kernelspec": {
   "display_name": "Python 3",
   "language": "python",
   "name": "python3"
  },
  "language_info": {
   "codemirror_mode": {
    "name": "ipython",
    "version": 3
   },
   "file_extension": ".py",
   "mimetype": "text/x-python",
   "name": "python",
   "nbconvert_exporter": "python",
   "pygments_lexer": "ipython3",
   "version": "3.10.4"
  }
 },
 "nbformat": 4,
 "nbformat_minor": 2
}
