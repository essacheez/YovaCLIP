{
  "cells": [
    {
      "cell_type": "markdown",
      "metadata": {
        "id": "CUTVIAvUxNYY"
      },
      "source": [
        "**PipeLine For Forest Detection Dataset**"
      ]
    },
    {
      "cell_type": "code",
      "execution_count": 1,
      "metadata": {
        "colab": {
          "base_uri": "https://localhost:8080/"
        },
        "id": "5Mp99JIHLw6X",
        "outputId": "7b0358c2-6e2b-4b8a-f64f-8c12c023bef5"
      },
      "outputs": [
        {
          "name": "stdout",
          "output_type": "stream",
          "text": [
            "Requirement already satisfied: inference_sdk in /usr/local/lib/python3.10/dist-packages (0.9.22)\n",
            "Requirement already satisfied: requests>=2.0.0 in /usr/local/lib/python3.10/dist-packages (from inference_sdk) (2.31.0)\n",
            "Requirement already satisfied: dataclasses-json>=0.6.0 in /usr/local/lib/python3.10/dist-packages (from inference_sdk) (0.6.4)\n",
            "Requirement already satisfied: opencv-python>=4.8.0.0 in /usr/local/lib/python3.10/dist-packages (from inference_sdk) (4.8.0.76)\n",
            "Requirement already satisfied: pillow>=9.0.0 in /usr/local/lib/python3.10/dist-packages (from inference_sdk) (9.4.0)\n",
            "Requirement already satisfied: supervision<1.0.0 in /usr/local/lib/python3.10/dist-packages (from inference_sdk) (0.19.0)\n",
            "Requirement already satisfied: numpy>=1.20.0 in /usr/local/lib/python3.10/dist-packages (from inference_sdk) (1.25.2)\n",
            "Requirement already satisfied: aiohttp>=3.9.0 in /usr/local/lib/python3.10/dist-packages (from inference_sdk) (3.9.5)\n",
            "Requirement already satisfied: backoff>=2.2.0 in /usr/local/lib/python3.10/dist-packages (from inference_sdk) (2.2.1)\n",
            "Requirement already satisfied: aioresponses>=0.7.6 in /usr/local/lib/python3.10/dist-packages (from inference_sdk) (0.7.6)\n",
            "Requirement already satisfied: py-cpuinfo>=9.0.0 in /usr/local/lib/python3.10/dist-packages (from inference_sdk) (9.0.0)\n",
            "Requirement already satisfied: aiosignal>=1.1.2 in /usr/local/lib/python3.10/dist-packages (from aiohttp>=3.9.0->inference_sdk) (1.3.1)\n",
            "Requirement already satisfied: attrs>=17.3.0 in /usr/local/lib/python3.10/dist-packages (from aiohttp>=3.9.0->inference_sdk) (23.2.0)\n",
            "Requirement already satisfied: frozenlist>=1.1.1 in /usr/local/lib/python3.10/dist-packages (from aiohttp>=3.9.0->inference_sdk) (1.4.1)\n",
            "Requirement already satisfied: multidict<7.0,>=4.5 in /usr/local/lib/python3.10/dist-packages (from aiohttp>=3.9.0->inference_sdk) (6.0.5)\n",
            "Requirement already satisfied: yarl<2.0,>=1.0 in /usr/local/lib/python3.10/dist-packages (from aiohttp>=3.9.0->inference_sdk) (1.9.4)\n",
            "Requirement already satisfied: async-timeout<5.0,>=4.0 in /usr/local/lib/python3.10/dist-packages (from aiohttp>=3.9.0->inference_sdk) (4.0.3)\n",
            "Requirement already satisfied: marshmallow<4.0.0,>=3.18.0 in /usr/local/lib/python3.10/dist-packages (from dataclasses-json>=0.6.0->inference_sdk) (3.21.1)\n",
            "Requirement already satisfied: typing-inspect<1,>=0.4.0 in /usr/local/lib/python3.10/dist-packages (from dataclasses-json>=0.6.0->inference_sdk) (0.9.0)\n",
            "Requirement already satisfied: charset-normalizer<4,>=2 in /usr/local/lib/python3.10/dist-packages (from requests>=2.0.0->inference_sdk) (3.3.2)\n",
            "Requirement already satisfied: idna<4,>=2.5 in /usr/local/lib/python3.10/dist-packages (from requests>=2.0.0->inference_sdk) (3.7)\n",
            "Requirement already satisfied: urllib3<3,>=1.21.1 in /usr/local/lib/python3.10/dist-packages (from requests>=2.0.0->inference_sdk) (2.0.7)\n",
            "Requirement already satisfied: certifi>=2017.4.17 in /usr/local/lib/python3.10/dist-packages (from requests>=2.0.0->inference_sdk) (2024.2.2)\n",
            "Requirement already satisfied: defusedxml<0.8.0,>=0.7.1 in /usr/local/lib/python3.10/dist-packages (from supervision<1.0.0->inference_sdk) (0.7.1)\n",
            "Requirement already satisfied: matplotlib>=3.6.0 in /usr/local/lib/python3.10/dist-packages (from supervision<1.0.0->inference_sdk) (3.7.1)\n",
            "Requirement already satisfied: opencv-python-headless>=4.5.5.64 in /usr/local/lib/python3.10/dist-packages (from supervision<1.0.0->inference_sdk) (4.9.0.80)\n",
            "Requirement already satisfied: pyyaml>=5.3 in /usr/local/lib/python3.10/dist-packages (from supervision<1.0.0->inference_sdk) (6.0.1)\n",
            "Requirement already satisfied: scipy<2.0.0,>=1.10.0 in /usr/local/lib/python3.10/dist-packages (from supervision<1.0.0->inference_sdk) (1.11.4)\n",
            "Requirement already satisfied: packaging>=17.0 in /usr/local/lib/python3.10/dist-packages (from marshmallow<4.0.0,>=3.18.0->dataclasses-json>=0.6.0->inference_sdk) (24.0)\n",
            "Requirement already satisfied: contourpy>=1.0.1 in /usr/local/lib/python3.10/dist-packages (from matplotlib>=3.6.0->supervision<1.0.0->inference_sdk) (1.2.1)\n",
            "Requirement already satisfied: cycler>=0.10 in /usr/local/lib/python3.10/dist-packages (from matplotlib>=3.6.0->supervision<1.0.0->inference_sdk) (0.12.1)\n",
            "Requirement already satisfied: fonttools>=4.22.0 in /usr/local/lib/python3.10/dist-packages (from matplotlib>=3.6.0->supervision<1.0.0->inference_sdk) (4.51.0)\n",
            "Requirement already satisfied: kiwisolver>=1.0.1 in /usr/local/lib/python3.10/dist-packages (from matplotlib>=3.6.0->supervision<1.0.0->inference_sdk) (1.4.5)\n",
            "Requirement already satisfied: pyparsing>=2.3.1 in /usr/local/lib/python3.10/dist-packages (from matplotlib>=3.6.0->supervision<1.0.0->inference_sdk) (3.1.2)\n",
            "Requirement already satisfied: python-dateutil>=2.7 in /usr/local/lib/python3.10/dist-packages (from matplotlib>=3.6.0->supervision<1.0.0->inference_sdk) (2.8.2)\n",
            "Requirement already satisfied: mypy-extensions>=0.3.0 in /usr/local/lib/python3.10/dist-packages (from typing-inspect<1,>=0.4.0->dataclasses-json>=0.6.0->inference_sdk) (1.0.0)\n",
            "Requirement already satisfied: typing-extensions>=3.7.4 in /usr/local/lib/python3.10/dist-packages (from typing-inspect<1,>=0.4.0->dataclasses-json>=0.6.0->inference_sdk) (4.11.0)\n",
            "Requirement already satisfied: six>=1.5 in /usr/local/lib/python3.10/dist-packages (from python-dateutil>=2.7->matplotlib>=3.6.0->supervision<1.0.0->inference_sdk) (1.16.0)\n"
          ]
        }
      ],
      "source": [
        "!pip install -q -U transformers==4.37.2\n",
        "!pip install -q bitsandbytes==0.41.3 accelerate==0.25.0\n",
        "\n",
        "!pip install inference_sdk"
      ]
    },
    {
      "cell_type": "code",
      "execution_count": 2,
      "metadata": {
        "colab": {
          "base_uri": "https://localhost:8080/"
        },
        "id": "B6prHSHzLpkh",
        "outputId": "d26dd41a-7754-4551-8920-ed0dde4e6d45"
      },
      "outputs": [
        {
          "name": "stdout",
          "output_type": "stream",
          "text": [
            "Drive already mounted at /content/drive; to attempt to forcibly remount, call drive.mount(\"/content/drive\", force_remount=True).\n"
          ]
        }
      ],
      "source": [
        "from transformers import pipeline\n",
        "from PIL import Image\n",
        "import requests\n",
        "import os\n",
        "import tqdm\n",
        "import os\n",
        "import glob\n",
        "import torch\n",
        "from transformers import BitsAndBytesConfig, pipeline\n",
        "from PIL import Image\n",
        "import requests\n",
        "import numpy as np\n",
        "import cv2\n",
        "import tqdm\n",
        "from google.colab import drive\n",
        "import os\n",
        "import glob\n",
        "import torch\n",
        "from transformers import BitsAndBytesConfig, pipeline\n",
        "from PIL import Image\n",
        "import requests\n",
        "import numpy as np\n",
        "import cv2\n",
        "import tqdm\n",
        "from IPython.display import display\n",
        "\n",
        "\n",
        "\n",
        "quantization_config = BitsAndBytesConfig(\n",
        "    load_in_4bit=True,\n",
        "    bnb_4bit_compute_dtype=torch.float16\n",
        ")\n",
        "\n",
        "drive.mount('/content/drive')"
      ]
    },
    {
      "cell_type": "markdown",
      "metadata": {
        "id": "jCJJ4JntxaM6"
      },
      "source": [
        "**Loading Qunatized LLAVA-7B**"
      ]
    },
    {
      "cell_type": "code",
      "execution_count": 3,
      "metadata": {
        "colab": {
          "base_uri": "https://localhost:8080/",
          "height": 171,
          "referenced_widgets": [
            "24b1f429ecfa4a1b8fe0d7bdd5f303a3",
            "b6eea269f2ac45c4bf28968e81ad0a92",
            "8220651c6a3a4ef883b28e89c126bc36",
            "b294fcf38dc542c88222993d6da32c12",
            "fd7ca8846adc4559a2e23c22e118d5eb",
            "9041562fdf4c41fab5c22ab24418e954",
            "0866cc6d34ac41cba762fb2576236fbc",
            "41f8dd63f4e4426580ce2016af3c8f7e",
            "2feee5798adf4474b9ad3d6d15fe5713",
            "fb126f44d79145548ac1aca389d6e9d8",
            "5803e473e24840c19f76323468c4afca"
          ]
        },
        "id": "IWCR1-1VOpRE",
        "outputId": "d59abf25-a084-4daa-c365-1b685ebf54c6"
      },
      "outputs": [
        {
          "name": "stderr",
          "output_type": "stream",
          "text": [
            "/usr/local/lib/python3.10/dist-packages/huggingface_hub/utils/_token.py:88: UserWarning: \n",
            "The secret `HF_TOKEN` does not exist in your Colab secrets.\n",
            "To authenticate with the Hugging Face Hub, create a token in your settings tab (https://huggingface.co/settings/tokens), set it as secret in your Google Colab and restart your session.\n",
            "You will be able to reuse this secret in all of your notebooks.\n",
            "Please note that authentication is recommended but still optional to access public models or datasets.\n",
            "  warnings.warn(\n"
          ]
        },
        {
          "data": {
            "application/vnd.jupyter.widget-view+json": {
              "model_id": "24b1f429ecfa4a1b8fe0d7bdd5f303a3",
              "version_major": 2,
              "version_minor": 0
            },
            "text/plain": [
              "Loading checkpoint shards:   0%|          | 0/3 [00:00<?, ?it/s]"
            ]
          },
          "metadata": {},
          "output_type": "display_data"
        },
        {
          "name": "stderr",
          "output_type": "stream",
          "text": [
            "Special tokens have been added in the vocabulary, make sure the associated word embeddings are fine-tuned or trained.\n"
          ]
        }
      ],
      "source": [
        "model_id = \"llava-hf/llava-1.5-7b-hf\"\n",
        "\n",
        "\n",
        "quantization_config = BitsAndBytesConfig(\n",
        "    load_in_4bit=True,\n",
        "    bnb_4bit_compute_dtype=torch.float16\n",
        ")\n",
        "\n",
        "pipe = pipeline(\"image-to-text\", model=model_id, model_kwargs={\"quantization_config\": quantization_config})\n",
        "prompt = \"USER: <image>\\nIf there is fire in the image return 1, if there is smoke return 2, if there is haze return 3, and if there is none return 0. Only return a single digit.\\nASSISTANT:\""
      ]
    },
    {
      "cell_type": "code",
      "execution_count": 4,
      "metadata": {
        "id": "EXr5dYIhMC_E"
      },
      "outputs": [],
      "source": [
        "base_path = '/content/drive/My Drive/DL Project/test/'\n",
        "empty_path = os.path.join(base_path, 'empty')\n",
        "smoke_path = os.path.join(base_path, 'Smoke')\n",
        "fire_path = os.path.join(base_path, 'Fire')\n",
        "haze_path = os.path.join(base_path, 'Hazy')"
      ]
    },
    {
      "cell_type": "markdown",
      "metadata": {
        "id": "J2Z7wgJ8xpE_"
      },
      "source": [
        "**Loading CLIP**"
      ]
    },
    {
      "cell_type": "code",
      "execution_count": 5,
      "metadata": {
        "colab": {
          "base_uri": "https://localhost:8080/"
        },
        "id": "aOYbRCaDLpki",
        "outputId": "9c245ab1-dd94-4738-f5df-619b9132188e"
      },
      "outputs": [
        {
          "name": "stderr",
          "output_type": "stream",
          "text": [
            "Could not find image processor class in the image processor config or the model config. Loading based on pattern matching with the model's feature extractor configuration. Please open a PR/issue to update `preprocessor_config.json` to use `image_processor_type` instead of `feature_extractor_type`. This warning will be removed in v4.40.\n"
          ]
        }
      ],
      "source": [
        "checkpoint = \"openai/clip-vit-large-patch14\"\n",
        "detector = pipeline(model=checkpoint, task=\"zero-shot-image-classification\")"
      ]
    },
    {
      "cell_type": "markdown",
      "metadata": {
        "id": "KslIY9ORxvkg"
      },
      "source": [
        "**Loading Images**"
      ]
    },
    {
      "cell_type": "code",
      "execution_count": 6,
      "metadata": {
        "id": "9TSP1DihLpki"
      },
      "outputs": [],
      "source": [
        "All_images = []\n",
        "All_groundthruths = []\n",
        "\n",
        "image_folder = os.path.join(base_path, 'empty')\n",
        "empty_directory = os.listdir(image_folder)\n",
        "empty = []\n",
        "for each in empty_directory:\n",
        "    if each == \".DS_Store\":\n",
        "        pass\n",
        "    else:\n",
        "        All_images.append(Image.open(f\"{image_folder}/{each}\"))\n",
        "        All_groundthruths.append(0)\n",
        "\n",
        "image_folder = os.path.join(base_path, 'Hazy')\n",
        "empty_directory = os.listdir(image_folder)\n",
        "empty = []\n",
        "for each in empty_directory:\n",
        "    if each == \".DS_Store\":\n",
        "        pass\n",
        "    else:\n",
        "        All_images.append(Image.open(f\"{image_folder}/{each}\"))\n",
        "        All_groundthruths.append(0)\n"
      ]
    },
    {
      "cell_type": "code",
      "execution_count": 7,
      "metadata": {
        "id": "2l2G3uOmLpkj"
      },
      "outputs": [],
      "source": [
        "image_folder = os.path.join(base_path, 'Smoke')\n",
        "Smoke_directory = os.listdir(image_folder)\n",
        "smoke = []\n",
        "for each in Smoke_directory:\n",
        "    if each == \".DS_Store\":\n",
        "        pass\n",
        "    else:\n",
        "        All_images.append(Image.open(f\"{image_folder}/{each}\"))\n",
        "        All_groundthruths.append(2)"
      ]
    },
    {
      "cell_type": "code",
      "execution_count": 8,
      "metadata": {
        "colab": {
          "base_uri": "https://localhost:8080/"
        },
        "id": "jAxmz9VcLpkj",
        "outputId": "481cb6db-312b-4ff1-b279-9515a0b03648"
      },
      "outputs": [
        {
          "name": "stdout",
          "output_type": "stream",
          "text": [
            "total images : 230\n"
          ]
        }
      ],
      "source": [
        "image_folder = os.path.join(base_path, 'Fire')\n",
        "fire_directory = os.listdir(image_folder)\n",
        "fire = []\n",
        "for each in fire_directory:\n",
        "    if each == \".DS_Store\":\n",
        "        pass\n",
        "    else:\n",
        "        All_images.append(Image.open(f\"{image_folder}/{each}\"))\n",
        "        All_groundthruths.append(1)\n",
        "\n",
        "# image_folder = '/Users/essajan/Desktop/DL/final_dataset/Annotated_data/test/Fire_multiple'\n",
        "# for each in fire_directory:\n",
        "#     if each == \".DS_Store\":\n",
        "#         pass\n",
        "#     else:\n",
        "#         try:\n",
        "#             All_images.append(Image.open(f\"{image_folder}/{each}\"))\n",
        "#             All_groundthruths.append(2)\n",
        "#         except:\n",
        "#             pass\n",
        "\n",
        "\n",
        "print(\"total images :\" , len(All_images))"
      ]
    },
    {
      "cell_type": "markdown",
      "metadata": {
        "id": "rRvR4P6ByB7X"
      },
      "source": [
        "**Loading Our FineTuned YOLO V9 Hosted on Roboflow through our API**"
      ]
    },
    {
      "cell_type": "code",
      "execution_count": 9,
      "metadata": {
        "id": "IZMQPYFSQzfW"
      },
      "outputs": [],
      "source": [
        "#setting up yolo\n",
        "from inference_sdk import InferenceHTTPClient, InferenceConfiguration\n",
        "\n",
        "CLIENT = InferenceHTTPClient(\n",
        "    api_url=\"https://detect.roboflow.com\",\n",
        "    api_key=\"qrgaEc4bhsa0Y6l9S3J9\"\n",
        ")\n",
        "\n",
        "custom_configuration = InferenceConfiguration(confidence_threshold=0.1)"
      ]
    },
    {
      "cell_type": "markdown",
      "metadata": {
        "id": "wY7RkCCtyGaI"
      },
      "source": [
        "**Model Pipeline**\n",
        "\n",
        "\n",
        "CLIP model predicits Day and Night with 100% Accuracy\n",
        "\n",
        "YOLO V-9 gives the bounding box for fire and smoke. We intentially kept the confidence level low so that we get many bounding box\n",
        "\n",
        "The bounding boxes are cropped out of the image and passed to the corresponding model in the pipeline based on day and night\n",
        "\n",
        "\n",
        "If its a night image the model bounding boxes are passed to CLIP for fire detection. The image is considered to have fire either if YOLO boinding box have high confidence or CLIP predicts smoke\n",
        "\n",
        "If its a day image we pass the data to both LLAVA and CLIP are ran on the predicted bonding boxes (This is because both the model have negligible false positives for crop small images). The image is considered to have smoke if either of the model return smoke or the Yolo V9 model have high confidence.\n"
      ]
    },
    {
      "cell_type": "code",
      "execution_count": 10,
      "metadata": {
        "colab": {
          "base_uri": "https://localhost:8080/"
        },
        "id": "eFW3oN86Lpkj",
        "outputId": "c3d43313-4cba-4d95-adb1-558876bc1fde"
      },
      "outputs": [
        {
          "name": "stderr",
          "output_type": "stream",
          "text": [
            " 48%|████▊     | 110/230 [09:10<08:44,  4.37s/it]UserWarning: You seem to be using the pipelines sequentially on GPU. In order to maximize efficiency please use a dataset\n",
            "100%|██████████| 230/230 [25:48<00:00,  6.73s/it]\n"
          ]
        }
      ],
      "source": [
        "pipeline_pred = []\n",
        "\n",
        "for i in tqdm.tqdm(range(len(All_images))):\n",
        "    fire_exist = 0\n",
        "    smoke_exist = 0\n",
        "    time_prediction = detector(All_images[i], candidate_labels=[\"Day\"  ,\"Night\"])[0]['label']\n",
        "    if time_prediction == \"Day\":\n",
        "        # call yolo v9 get bounding box\n",
        "        try:\n",
        "          with CLIENT.use_configuration(custom_configuration):\n",
        "            response = CLIENT.infer(All_images[i], model_id=\"dl-project-f9upt/2\")\n",
        "        except:\n",
        "          image = All_images[i]\n",
        "          image = image.convert('RGB')\n",
        "          with CLIENT.use_configuration(custom_configuration):\n",
        "            response = CLIENT.infer(image, model_id=\"dl-project-f9upt/2\")\n",
        "\n",
        "        # get bounding box\n",
        "        # Iterate over predictions and crop bounding boxes\n",
        "        for prediction in response['predictions']:\n",
        "            x = int(prediction['x'])\n",
        "            y = int(prediction['y'])\n",
        "            width = int(prediction['width'])\n",
        "            height = int(prediction['height'])\n",
        "            img = np.array(All_images[i])\n",
        "            cropped_image = img[y:y+height, x:x+width]\n",
        "\n",
        "            # call llava for smoke for all\n",
        "            feed_image = Image.fromarray(cropped_image)\n",
        "            outputs = pipe(feed_image, prompt=prompt, generate_kwargs={\"max_new_tokens\": 2})\n",
        "            LLava_smoke_prediction = outputs[0][\"generated_text\"]\n",
        "            Clip_smokeprediction = detector(feed_image, candidate_labels=[\"Smoke\"  ,\"No Smoke\"])[0]['label']\n",
        "\n",
        "            if LLava_smoke_prediction == '2' or prediction['confidence'] >= 0.25 or Clip_smokeprediction == \"Smoke\" :\n",
        "                smoke_exist = 2\n",
        "\n",
        "\n",
        "    elif time_prediction== \"Night\":\n",
        "        # call yolo v9 get bounding box\n",
        "        try:\n",
        "          with CLIENT.use_configuration(custom_configuration):\n",
        "            response = CLIENT.infer(All_images[i], model_id=\"dl-project-f9upt/2\")\n",
        "        except:\n",
        "          image = All_images[i]\n",
        "          image = image.convert('RGB')\n",
        "          with CLIENT.use_configuration(custom_configuration):\n",
        "            response = CLIENT.infer(image, model_id=\"dl-project-f9upt/2\")\n",
        "\n",
        "        # get bounding box\n",
        "        # Iterate over predictions and crop bounding boxes\n",
        "        for prediction in response['predictions']:\n",
        "            x = int(prediction['x'])\n",
        "            y = int(prediction['y'])\n",
        "            width = int(prediction['width'])\n",
        "            height = int(prediction['height'])\n",
        "            img = np.array(All_images[i])\n",
        "            cropped_image = img[y:y+height, x:x+width]\n",
        "\n",
        "            feed_image = Image.fromarray(cropped_image)\n",
        "            Fireprediction = detector(feed_image, candidate_labels=[\"Fire\"  ,\"No Fire\"])[0]['label']\n",
        "\n",
        "            if Fireprediction == \"Fire\" or prediction['confidence'] >= 0.30: #cross check the thrshold\n",
        "                fire_exist = 1\n",
        "\n",
        "\n",
        "    if(smoke_exist ==2):\n",
        "        pipeline_pred.append(2)\n",
        "\n",
        "    elif(fire_exist == 1):\n",
        "        pipeline_pred.append(1)\n",
        "\n",
        "    elif(smoke_exist == 0 and fire_exist == 0):\n",
        "        pipeline_pred.append(0)\n",
        "\n"
      ]
    },
    {
      "cell_type": "code",
      "execution_count": 18,
      "metadata": {
        "colab": {
          "base_uri": "https://localhost:8080/"
        },
        "id": "fNj39q9OY5uQ",
        "outputId": "72cd2805-05cd-4cef-8d69-e75804db3777"
      },
      "outputs": [
        {
          "name": "stdout",
          "output_type": "stream",
          "text": [
            "These are all the our PTZ images for smoke in Test set: \n",
            "Class 2 Represent smoke a 0 represent nothing\n",
            "[2, 2, 0, 2, 2, 2, 0, 2, 2, 2, 2, 2]\n"
          ]
        }
      ],
      "source": [
        "print(\"These are all the our PTZ images for smoke in Test set: \")\n",
        "print(\"Class 2 Represent smoke a 0 represent nothing\")\n",
        "print(pipeline_pred[189:201])"
      ]
    },
    {
      "cell_type": "code",
      "execution_count": 14,
      "metadata": {
        "colab": {
          "base_uri": "https://localhost:8080/",
          "height": 769
        },
        "id": "jyT2nmInepwO",
        "outputId": "41d5a1e4-a6ec-464a-a064-756d7b410132"
      },
      "outputs": [
        {
          "name": "stdout",
          "output_type": "stream",
          "text": [
            "Classification Report:\n",
            "              precision    recall  f1-score   support\n",
            "\n",
            "       Empty       0.84      0.85      0.85       130\n",
            "        Fire       0.94      1.00      0.97        29\n",
            "       Smoke       0.75      0.70      0.72        71\n",
            "\n",
            "    accuracy                           0.83       230\n",
            "   macro avg       0.84      0.85      0.85       230\n",
            "weighted avg       0.82      0.83      0.82       230\n",
            "\n"
          ]
        },
        {
          "data": {
            "image/png": "[encoded data removed]",
            "text/plain": [
              "<Figure size 800x600 with 2 Axes>"
            ]
          },
          "metadata": {},
          "output_type": "display_data"
        }
      ],
      "source": [
        "import numpy as np\n",
        "import matplotlib.pyplot as plt\n",
        "import seaborn as sns\n",
        "from sklearn.metrics import confusion_matrix, classification_report\n",
        "\n",
        "labels = ['Empty', 'Fire', 'Smoke']\n",
        "\n",
        "# Compute the confusion matrix\n",
        "cm = confusion_matrix(All_groundthruths, pipeline_pred, labels=np.arange(len(labels)))\n",
        "\n",
        "# Compute precision, recall, and F1-score for each class\n",
        "report = classification_report(All_groundthruths, pipeline_pred, target_names=labels, output_dict=True)\n",
        "\n",
        "# Print classification report\n",
        "print(\"Classification Report:\")\n",
        "print(classification_report(All_groundthruths, pipeline_pred, target_names=labels))\n",
        "\n",
        "# Plot the confusion matrix with seaborn heatmap\n",
        "plt.figure(figsize=(8, 6))\n",
        "sns.set(font_scale=1.2)  # Adjust font size for better visualization\n",
        "sns.heatmap(cm, annot=True, fmt='d', cmap='Blues', xticklabels=labels, yticklabels=labels)\n",
        "plt.xlabel('Predicted Label')\n",
        "plt.ylabel('True Label')\n",
        "plt.title('Confusion Matrix')\n",
        "plt.show()\n"
      ]
    }
  ],
  "metadata": {
    "accelerator": "GPU",
    "colab": {
      "gpuType": "T4",
      "provenance": []
    },
    "kernelspec": {
      "display_name": "Python 3",
      "name": "python3"
    },
    "language_info": {
      "name": "python"
    },
    "widgets": {
      "application/vnd.jupyter.widget-state+json": {
        "0866cc6d34ac41cba762fb2576236fbc": {
          "model_module": "@jupyter-widgets/controls",
          "model_module_version": "1.5.0",
          "model_name": "DescriptionStyleModel",
          "state": {
            "_model_module": "@jupyter-widgets/controls",
            "_model_module_version": "1.5.0",
            "_model_name": "DescriptionStyleModel",
            "_view_count": null,
            "_view_module": "@jupyter-widgets/base",
            "_view_module_version": "1.2.0",
            "_view_name": "StyleView",
            "description_width": ""
          }
        },
        "24b1f429ecfa4a1b8fe0d7bdd5f303a3": {
          "model_module": "@jupyter-widgets/controls",
          "model_module_version": "1.5.0",
          "model_name": "HBoxModel",
          "state": {
            "_dom_classes": [],
            "_model_module": "@jupyter-widgets/controls",
            "_model_module_version": "1.5.0",
            "_model_name": "HBoxModel",
            "_view_count": null,
            "_view_module": "@jupyter-widgets/controls",
            "_view_module_version": "1.5.0",
            "_view_name": "HBoxView",
            "box_style": "",
            "children": [
              "IPY_MODEL_b6eea269f2ac45c4bf28968e81ad0a92",
              "IPY_MODEL_8220651c6a3a4ef883b28e89c126bc36",
              "IPY_MODEL_b294fcf38dc542c88222993d6da32c12"
            ],
            "layout": "IPY_MODEL_fd7ca8846adc4559a2e23c22e118d5eb"
          }
        },
        "2feee5798adf4474b9ad3d6d15fe5713": {
          "model_module": "@jupyter-widgets/controls",
          "model_module_version": "1.5.0",
          "model_name": "ProgressStyleModel",
          "state": {
            "_model_module": "@jupyter-widgets/controls",
            "_model_module_version": "1.5.0",
            "_model_name": "ProgressStyleModel",
            "_view_count": null,
            "_view_module": "@jupyter-widgets/base",
            "_view_module_version": "1.2.0",
            "_view_name": "StyleView",
            "bar_color": null,
            "description_width": ""
          }
        },
        "41f8dd63f4e4426580ce2016af3c8f7e": {
          "model_module": "@jupyter-widgets/base",
          "model_module_version": "1.2.0",
          "model_name": "LayoutModel",
          "state": {
            "_model_module": "@jupyter-widgets/base",
            "_model_module_version": "1.2.0",
            "_model_name": "LayoutModel",
            "_view_count": null,
            "_view_module": "@jupyter-widgets/base",
            "_view_module_version": "1.2.0",
            "_view_name": "LayoutView",
            "align_content": null,
            "align_items": null,
            "align_self": null,
            "border": null,
            "bottom": null,
            "display": null,
            "flex": null,
            "flex_flow": null,
            "grid_area": null,
            "grid_auto_columns": null,
            "grid_auto_flow": null,
            "grid_auto_rows": null,
            "grid_column": null,
            "grid_gap": null,
            "grid_row": null,
            "grid_template_areas": null,
            "grid_template_columns": null,
            "grid_template_rows": null,
            "height": null,
            "justify_content": null,
            "justify_items": null,
            "left": null,
            "margin": null,
            "max_height": null,
            "max_width": null,
            "min_height": null,
            "min_width": null,
            "object_fit": null,
            "object_position": null,
            "order": null,
            "overflow": null,
            "overflow_x": null,
            "overflow_y": null,
            "padding": null,
            "right": null,
            "top": null,
            "visibility": null,
            "width": null
          }
        },
        "5803e473e24840c19f76323468c4afca": {
          "model_module": "@jupyter-widgets/controls",
          "model_module_version": "1.5.0",
          "model_name": "DescriptionStyleModel",
          "state": {
            "_model_module": "@jupyter-widgets/controls",
            "_model_module_version": "1.5.0",
            "_model_name": "DescriptionStyleModel",
            "_view_count": null,
            "_view_module": "@jupyter-widgets/base",
            "_view_module_version": "1.2.0",
            "_view_name": "StyleView",
            "description_width": ""
          }
        },
        "8220651c6a3a4ef883b28e89c126bc36": {
          "model_module": "@jupyter-widgets/controls",
          "model_module_version": "1.5.0",
          "model_name": "FloatProgressModel",
          "state": {
            "_dom_classes": [],
            "_model_module": "@jupyter-widgets/controls",
            "_model_module_version": "1.5.0",
            "_model_name": "FloatProgressModel",
            "_view_count": null,
            "_view_module": "@jupyter-widgets/controls",
            "_view_module_version": "1.5.0",
            "_view_name": "ProgressView",
            "bar_style": "success",
            "description": "",
            "description_tooltip": null,
            "layout": "IPY_MODEL_41f8dd63f4e4426580ce2016af3c8f7e",
            "max": 3,
            "min": 0,
            "orientation": "horizontal",
            "style": "IPY_MODEL_2feee5798adf4474b9ad3d6d15fe5713",
            "value": 3
          }
        },
        "9041562fdf4c41fab5c22ab24418e954": {
          "model_module": "@jupyter-widgets/base",
          "model_module_version": "1.2.0",
          "model_name": "LayoutModel",
          "state": {
            "_model_module": "@jupyter-widgets/base",
            "_model_module_version": "1.2.0",
            "_model_name": "LayoutModel",
            "_view_count": null,
            "_view_module": "@jupyter-widgets/base",
            "_view_module_version": "1.2.0",
            "_view_name": "LayoutView",
            "align_content": null,
            "align_items": null,
            "align_self": null,
            "border": null,
            "bottom": null,
            "display": null,
            "flex": null,
            "flex_flow": null,
            "grid_area": null,
            "grid_auto_columns": null,
            "grid_auto_flow": null,
            "grid_auto_rows": null,
            "grid_column": null,
            "grid_gap": null,
            "grid_row": null,
            "grid_template_areas": null,
            "grid_template_columns": null,
            "grid_template_rows": null,
            "height": null,
            "justify_content": null,
            "justify_items": null,
            "left": null,
            "margin": null,
            "max_height": null,
            "max_width": null,
            "min_height": null,
            "min_width": null,
            "object_fit": null,
            "object_position": null,
            "order": null,
            "overflow": null,
            "overflow_x": null,
            "overflow_y": null,
            "padding": null,
            "right": null,
            "top": null,
            "visibility": null,
            "width": null
          }
        },
        "b294fcf38dc542c88222993d6da32c12": {
          "model_module": "@jupyter-widgets/controls",
          "model_module_version": "1.5.0",
          "model_name": "HTMLModel",
          "state": {
            "_dom_classes": [],
            "_model_module": "@jupyter-widgets/controls",
            "_model_module_version": "1.5.0",
            "_model_name": "HTMLModel",
            "_view_count": null,
            "_view_module": "@jupyter-widgets/controls",
            "_view_module_version": "1.5.0",
            "_view_name": "HTMLView",
            "description": "",
            "description_tooltip": null,
            "layout": "IPY_MODEL_fb126f44d79145548ac1aca389d6e9d8",
            "placeholder": "​",
            "style": "IPY_MODEL_5803e473e24840c19f76323468c4afca",
            "value": " 3/3 [01:15&lt;00:00, 24.47s/it]"
          }
        },
        "b6eea269f2ac45c4bf28968e81ad0a92": {
          "model_module": "@jupyter-widgets/controls",
          "model_module_version": "1.5.0",
          "model_name": "HTMLModel",
          "state": {
            "_dom_classes": [],
            "_model_module": "@jupyter-widgets/controls",
            "_model_module_version": "1.5.0",
            "_model_name": "HTMLModel",
            "_view_count": null,
            "_view_module": "@jupyter-widgets/controls",
            "_view_module_version": "1.5.0",
            "_view_name": "HTMLView",
            "description": "",
            "description_tooltip": null,
            "layout": "IPY_MODEL_9041562fdf4c41fab5c22ab24418e954",
            "placeholder": "​",
            "style": "IPY_MODEL_0866cc6d34ac41cba762fb2576236fbc",
            "value": "Loading checkpoint shards: 100%"
          }
        },
        "fb126f44d79145548ac1aca389d6e9d8": {
          "model_module": "@jupyter-widgets/base",
          "model_module_version": "1.2.0",
          "model_name": "LayoutModel",
          "state": {
            "_model_module": "@jupyter-widgets/base",
            "_model_module_version": "1.2.0",
            "_model_name": "LayoutModel",
            "_view_count": null,
            "_view_module": "@jupyter-widgets/base",
            "_view_module_version": "1.2.0",
            "_view_name": "LayoutView",
            "align_content": null,
            "align_items": null,
            "align_self": null,
            "border": null,
            "bottom": null,
            "display": null,
            "flex": null,
            "flex_flow": null,
            "grid_area": null,
            "grid_auto_columns": null,
            "grid_auto_flow": null,
            "grid_auto_rows": null,
            "grid_column": null,
            "grid_gap": null,
            "grid_row": null,
            "grid_template_areas": null,
            "grid_template_columns": null,
            "grid_template_rows": null,
            "height": null,
            "justify_content": null,
            "justify_items": null,
            "left": null,
            "margin": null,
            "max_height": null,
            "max_width": null,
            "min_height": null,
            "min_width": null,
            "object_fit": null,
            "object_position": null,
            "order": null,
            "overflow": null,
            "overflow_x": null,
            "overflow_y": null,
            "padding": null,
            "right": null,
            "top": null,
            "visibility": null,
            "width": null
          }
        },
        "fd7ca8846adc4559a2e23c22e118d5eb": {
          "model_module": "@jupyter-widgets/base",
          "model_module_version": "1.2.0",
          "model_name": "LayoutModel",
          "state": {
            "_model_module": "@jupyter-widgets/base",
            "_model_module_version": "1.2.0",
            "_model_name": "LayoutModel",
            "_view_count": null,
            "_view_module": "@jupyter-widgets/base",
            "_view_module_version": "1.2.0",
            "_view_name": "LayoutView",
            "align_content": null,
            "align_items": null,
            "align_self": null,
            "border": null,
            "bottom": null,
            "display": null,
            "flex": null,
            "flex_flow": null,
            "grid_area": null,
            "grid_auto_columns": null,
            "grid_auto_flow": null,
            "grid_auto_rows": null,
            "grid_column": null,
            "grid_gap": null,
            "grid_row": null,
            "grid_template_areas": null,
            "grid_template_columns": null,
            "grid_template_rows": null,
            "height": null,
            "justify_content": null,
            "justify_items": null,
            "left": null,
            "margin": null,
            "max_height": null,
            "max_width": null,
            "min_height": null,
            "min_width": null,
            "object_fit": null,
            "object_position": null,
            "order": null,
            "overflow": null,
            "overflow_x": null,
            "overflow_y": null,
            "padding": null,
            "right": null,
            "top": null,
            "visibility": null,
            "width": null
          }
        }
      }
    }
  },
  "nbformat": 4,
  "nbformat_minor": 0
}
